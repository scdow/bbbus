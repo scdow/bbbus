{
 "cells": [
  {
   "cell_type": "markdown",
   "metadata": {},
   "source": [
    "# 收集天猫评论 - 安全座椅，手推车"
   ]
  },
  {
   "cell_type": "markdown",
   "metadata": {},
   "source": [
    "## 爬取网页端评论（评论不全，每个sku约80条）"
   ]
  },
  {
   "cell_type": "code",
   "execution_count": null,
   "metadata": {},
   "outputs": [],
   "source": [
    "# 爬取网页\n",
    "from selenium import webdriver\n",
    "from selenium.webdriver.common.by import By\n",
    "import time\n",
    " \n",
    "# 启动浏览器驱动\n",
    "driver = webdriver.Chrome()\n",
    "\n",
    "# 打开网页，安全座椅，手推车\n",
    "url = \"https://detail.tmall.com/item.htm?_u=t2dmg8j26111&id=698046317552\"\n",
    "# url = \"https://detail.tmall.com/item.htm?_u=t2dmg8j26111&id=618368232224&spm=a1z0k.1000777.0.0.657837deHpcgv3\"\n",
    "driver.get(url)\n",
    "\n",
    "time.sleep(30)\n",
    "# 此处先手动登录，后续可用cookie\n",
    "print('login done')\n",
    " \n",
    "# 通过class查找元素并点击\n",
    "element = driver.find_element(By.CLASS_NAME, \"ShowButton--o4XEG7ih\")\n",
    "element.click()\n",
    "\n",
    "time.sleep(5)\n",
    "print('click comment button done')\n",
    "\n",
    "\n",
    "\n",
    "# 滚动页面\n",
    "# class=\"comments--vOMSBfi2 beautify-scroll-bar\"\n",
    "div_element = driver.find_element(By.CLASS_NAME, \"comments--vOMSBfi2\")\n",
    "scroll_script = \"\"\"\n",
    "var scroll = setInterval(function(){\n",
    "    div_element.scrollBy(0,300)\n",
    "}, 3000); \n",
    "\"\"\"\n",
    "driver.execute_script(scroll_script)\n",
    "# 等待一段时间让页面滚动\n",
    "# 此处先手动滚动\n",
    "time.sleep(60)\n",
    "# 停止滚动\n",
    "driver.execute_script(\"clearInterval(scroll)\")\n",
    "print('scroll to view all comment done')\n",
    "\n",
    "\n",
    "# 获取页面源代码\n",
    "page_source = driver.page_source\n",
    " \n",
    "# 关闭浏览器驱动\n",
    "driver.quit()"
   ]
  },
  {
   "cell_type": "code",
   "execution_count": 28,
   "metadata": {},
   "outputs": [],
   "source": [
    "# 保存网页\n",
    "# with open('./data/safety_seat.html', 'w', encoding='utf-8') as file:\n",
    "#         file.write(page_source)\n",
    "with open('./data/stroller.html', 'w', encoding='utf-8') as file:\n",
    "        file.write(page_source)"
   ]
  },
  {
   "cell_type": "code",
   "execution_count": 27,
   "metadata": {},
   "outputs": [
    {
     "name": "stdout",
     "output_type": "stream",
     "text": [
      "94\n"
     ]
    }
   ],
   "source": [
    "# 解析评论内容\n",
    "from bs4 import BeautifulSoup\n",
    "from pprint import pprint\n",
    "import csv\n",
    "\n",
    "# html = 'safety_seat.html'\n",
    "html = 'stroller.html'\n",
    "with open('./data/'+html, 'r', encoding='utf-8') as file:\n",
    "    page_source = file.read()\n",
    "\n",
    "soup = BeautifulSoup(page_source, 'html.parser')\n",
    "# 找到评论所在的元素\n",
    "comments = soup.find_all(class_='content--FpIOzHeP')\n",
    "\n",
    "comments_data ={}\n",
    "contents = []\n",
    "\n",
    "for comment in comments:\n",
    "    content = comment.get_text(strip=True)\n",
    "    contents.append(content)\n",
    "\n",
    "comments_data = {'content':contents}\n",
    "print(len(contents))\n"
   ]
  },
  {
   "cell_type": "code",
   "execution_count": 30,
   "metadata": {},
   "outputs": [
    {
     "data": {
      "text/html": [
       "<div>\n",
       "<style scoped>\n",
       "    .dataframe tbody tr th:only-of-type {\n",
       "        vertical-align: middle;\n",
       "    }\n",
       "\n",
       "    .dataframe tbody tr th {\n",
       "        vertical-align: top;\n",
       "    }\n",
       "\n",
       "    .dataframe thead th {\n",
       "        text-align: right;\n",
       "    }\n",
       "</style>\n",
       "<table border=\"1\" class=\"dataframe\">\n",
       "  <thead>\n",
       "    <tr style=\"text-align: right;\">\n",
       "      <th></th>\n",
       "      <th>content</th>\n",
       "    </tr>\n",
       "  </thead>\n",
       "  <tbody>\n",
       "    <tr>\n",
       "      <th>0</th>\n",
       "      <td>身边同事们都买的这个，就下单买了，真的很舒适很不错，天天带娃出去溜，娃长大了出去玩也能用，真不错！</td>\n",
       "    </tr>\n",
       "    <tr>\n",
       "      <th>1</th>\n",
       "      <td>很好组装，颜值在线，重要的是车身很稳，使用稳定顺滑。宝宝还小还没出门，目前就在家使用，也很愿...</td>\n",
       "    </tr>\n",
       "    <tr>\n",
       "      <th>2</th>\n",
       "      <td>身边同事们都买的这个，就下单买了，真的很舒适很不错，天天带娃出去溜，娃长大了出去玩也能用，真不错！</td>\n",
       "    </tr>\n",
       "    <tr>\n",
       "      <th>3</th>\n",
       "      <td>很好组装，颜值在线，重要的是车身很稳，使用稳定顺滑。宝宝还小还没出门，目前就在家使用，也很愿...</td>\n",
       "    </tr>\n",
       "    <tr>\n",
       "      <th>4</th>\n",
       "      <td>看了好多测评最终选择了bebebus\\n                          ...</td>\n",
       "    </tr>\n",
       "    <tr>\n",
       "      <th>...</th>\n",
       "      <td>...</td>\n",
       "    </tr>\n",
       "    <tr>\n",
       "      <th>89</th>\n",
       "      <td>对比了oneya，dearmom后，最终选择的bebebus，颜值高，质量好。今天收到就去遛...</td>\n",
       "    </tr>\n",
       "    <tr>\n",
       "      <th>90</th>\n",
       "      <td>宝宝刚满月，试了一下，稳定性高，对比了几家还是决定买的这个，一分价钱一分货，推着比较稳🥳🥳🥳🥳🥳🥳</td>\n",
       "    </tr>\n",
       "    <tr>\n",
       "      <th>91</th>\n",
       "      <td>非常好用，宝宝坐的很舒服出门必备</td>\n",
       "    </tr>\n",
       "    <tr>\n",
       "      <th>92</th>\n",
       "      <td>0天后追评：刚溜一圈回来，宝宝坐着很舒服，一点都不闹</td>\n",
       "    </tr>\n",
       "    <tr>\n",
       "      <th>93</th>\n",
       "      <td>颜值高，真是太好看了，操控也很好，喜欢💕</td>\n",
       "    </tr>\n",
       "  </tbody>\n",
       "</table>\n",
       "<p>94 rows × 1 columns</p>\n",
       "</div>"
      ],
      "text/plain": [
       "                                              content\n",
       "0   身边同事们都买的这个，就下单买了，真的很舒适很不错，天天带娃出去溜，娃长大了出去玩也能用，真不错！\n",
       "1   很好组装，颜值在线，重要的是车身很稳，使用稳定顺滑。宝宝还小还没出门，目前就在家使用，也很愿...\n",
       "2   身边同事们都买的这个，就下单买了，真的很舒适很不错，天天带娃出去溜，娃长大了出去玩也能用，真不错！\n",
       "3   很好组装，颜值在线，重要的是车身很稳，使用稳定顺滑。宝宝还小还没出门，目前就在家使用，也很愿...\n",
       "4   看了好多测评最终选择了bebebus\\n                          ...\n",
       "..                                                ...\n",
       "89  对比了oneya，dearmom后，最终选择的bebebus，颜值高，质量好。今天收到就去遛...\n",
       "90  宝宝刚满月，试了一下，稳定性高，对比了几家还是决定买的这个，一分价钱一分货，推着比较稳🥳🥳🥳🥳🥳🥳\n",
       "91                                   非常好用，宝宝坐的很舒服出门必备\n",
       "92                         0天后追评：刚溜一圈回来，宝宝坐着很舒服，一点都不闹\n",
       "93                               颜值高，真是太好看了，操控也很好，喜欢💕\n",
       "\n",
       "[94 rows x 1 columns]"
      ]
     },
     "metadata": {},
     "output_type": "display_data"
    }
   ],
   "source": [
    "# 保存评论内容\n",
    "import pandas as pd\n",
    "\n",
    "# 保存\n",
    "df = pd.DataFrame(comments_data)\n",
    "\n",
    "# file_name = 'comments_safetyseat.csv'\n",
    "file_name = 'comments_stroller.csv'\n",
    "df.to_csv('./data/'+file_name, index=False, encoding='utf-8')\n",
    "\n",
    "# 查看\n",
    "df = pd.read_csv('./data/'+file_name, encoding='utf-8')\n",
    "display(df)"
   ]
  },
  {
   "cell_type": "markdown",
   "metadata": {},
   "source": [
    "## 爬取手机端评论 （每个sku约几千条）"
   ]
  },
  {
   "cell_type": "markdown",
   "metadata": {},
   "source": [
    "（后续再爬取）"
   ]
  }
 ],
 "metadata": {
  "kernelspec": {
   "display_name": "pyProject",
   "language": "python",
   "name": "python3"
  },
  "language_info": {
   "codemirror_mode": {
    "name": "ipython",
    "version": 3
   },
   "file_extension": ".py",
   "mimetype": "text/x-python",
   "name": "python",
   "nbconvert_exporter": "python",
   "pygments_lexer": "ipython3",
   "version": "3.10.12"
  }
 },
 "nbformat": 4,
 "nbformat_minor": 2
}
